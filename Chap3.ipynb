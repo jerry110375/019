{
  "nbformat": 4,
  "nbformat_minor": 0,
  "metadata": {
    "colab": {
      "name": "Untitled2.ipynb",
      "provenance": [],
      "authorship_tag": "ABX9TyNDDxaeRdfVDcRqNoWO1jjj",
      "include_colab_link": true
    },
    "kernelspec": {
      "name": "python3",
      "display_name": "Python 3"
    },
    "language_info": {
      "name": "python"
    }
  },
  "cells": [
    {
      "cell_type": "markdown",
      "metadata": {
        "id": "view-in-github",
        "colab_type": "text"
      },
      "source": [
        "<a href=\"https://colab.research.google.com/github/jerry110375/019/blob/main/Chap3.ipynb\" target=\"_parent\"><img src=\"https://colab.research.google.com/assets/colab-badge.svg\" alt=\"Open In Colab\"/></a>"
      ]
    },
    {
      "cell_type": "markdown",
      "source": [
        "Python物件\n",
        "List[串列] Tuple(元組) Dictionary{字典} Sets{集合}\n",
        "List[串列]\n",
        "使用中括號[]包裹元素"
      ],
      "metadata": {
        "id": "ogYf5fWcM-uw"
      }
    },
    {
      "cell_type": "code",
      "execution_count": 2,
      "metadata": {
        "colab": {
          "base_uri": "https://localhost:8080/"
        },
        "id": "QEMOy9J8MiOR",
        "outputId": "5a783d9f-e048-41c4-db61-386d2b7a92ff"
      },
      "outputs": [
        {
          "output_type": "stream",
          "name": "stdout",
          "text": [
            "3812\n"
          ]
        }
      ],
      "source": [
        "expenses = [1024, 140, 240, 360, 2048]\n",
        "print(sum(expenses))"
      ]
    },
    {
      "cell_type": "markdown",
      "source": [
        "索引"
      ],
      "metadata": {
        "id": "cI2m1Sx1OJ3W"
      }
    },
    {
      "cell_type": "code",
      "source": [
        "expenses = [1024, 140, 240, 360, 2048]\n",
        "print(expenses[0]) #索引從0開始\n",
        "print(expenses[1])\n",
        "print(expenses[-1]) #倒數第一個\n",
        "print(expenses[-2])"
      ],
      "metadata": {
        "colab": {
          "base_uri": "https://localhost:8080/"
        },
        "id": "vCMVP7JjOJDg",
        "outputId": "7e5ac8d8-06fe-43fd-e094-c8d0951e0d07"
      },
      "execution_count": 3,
      "outputs": [
        {
          "output_type": "stream",
          "name": "stdout",
          "text": [
            "1024\n",
            "140\n",
            "2048\n",
            "360\n"
          ]
        }
      ]
    },
    {
      "cell_type": "markdown",
      "source": [
        "索引"
      ],
      "metadata": {
        "id": "NDbJgw1COgCO"
      }
    },
    {
      "cell_type": "code",
      "source": [
        "expenses = [1024, 140, 240, 360, 2048]\n",
        "print(expenses[0]) #索引從0開始\n",
        "print(expenses[1])\n",
        "print(expenses[-1]) #倒數第一個\n",
        "print(expenses[-2])"
      ],
      "metadata": {
        "colab": {
          "base_uri": "https://localhost:8080/"
        },
        "id": "oN5XQ9o2Ogu0",
        "outputId": "8976f38f-7da3-4f5b-9ee9-f5c2c0f70c63"
      },
      "execution_count": 5,
      "outputs": [
        {
          "output_type": "stream",
          "name": "stdout",
          "text": [
            "1024\n",
            "140\n",
            "2048\n",
            "360\n"
          ]
        }
      ]
    },
    {
      "cell_type": "code",
      "source": [
        "my_list0 = [] #空串列\n",
        "my_list1 = list() \n",
        "my_list2 = ['Python', 'Java', 'C#']\n",
        "print(my_list2[0])"
      ],
      "metadata": {
        "colab": {
          "base_uri": "https://localhost:8080/"
        },
        "id": "XJWSFtwbOYDr",
        "outputId": "5ee43589-a100-4c2f-d4a3-9db91c55aacd"
      },
      "execution_count": 4,
      "outputs": [
        {
          "output_type": "stream",
          "name": "stdout",
          "text": [
            "Python\n"
          ]
        }
      ]
    },
    {
      "cell_type": "markdown",
      "source": [
        "list的長度"
      ],
      "metadata": {
        "id": "aB7esD0VOc19"
      }
    },
    {
      "cell_type": "code",
      "source": [
        "my_list2 = ['python', 'Java', 'C#']\n",
        "print(len(my_list2))\n",
        "print(len(my_list2[0]))"
      ],
      "metadata": {
        "colab": {
          "base_uri": "https://localhost:8080/"
        },
        "id": "c7ZmuJ0zOqI3",
        "outputId": "81f20cb1-7fab-4f15-9090-5800440b2eff"
      },
      "execution_count": 7,
      "outputs": [
        {
          "output_type": "stream",
          "name": "stdout",
          "text": [
            "3\n",
            "6\n"
          ]
        }
      ]
    },
    {
      "cell_type": "markdown",
      "source": [
        "附加"
      ],
      "metadata": {
        "id": "app49AMHPDWA"
      }
    },
    {
      "cell_type": "code",
      "source": [
        "my_list2 = ['Python', 'Java', 'C#']\n",
        "my_list2.append('C++')\n",
        "print(my_list2)"
      ],
      "metadata": {
        "colab": {
          "base_uri": "https://localhost:8080/"
        },
        "id": "HS2qwnL8PD_D",
        "outputId": "5f85af7a-e49f-4414-8ca9-d8409b176ce4"
      },
      "execution_count": 8,
      "outputs": [
        {
          "output_type": "stream",
          "name": "stdout",
          "text": [
            "['Python', 'Java', 'C#', 'C++']\n"
          ]
        }
      ]
    },
    {
      "cell_type": "code",
      "source": [
        "my_list2 = ['Python', 'Java', 'C#']\n",
        "my_list2.insert(1,'C++')\n",
        "print(my_list2)"
      ],
      "metadata": {
        "colab": {
          "base_uri": "https://localhost:8080/"
        },
        "id": "rZo07VAhPuvm",
        "outputId": "7a6c391b-9231-4d75-f5a8-6e2dd3642772"
      },
      "execution_count": 9,
      "outputs": [
        {
          "output_type": "stream",
          "name": "stdout",
          "text": [
            "['Python', 'C++', 'Java', 'C#']\n"
          ]
        }
      ]
    },
    {
      "cell_type": "markdown",
      "source": [
        "刪除"
      ],
      "metadata": {
        "id": "tDTtkTqfP0gC"
      }
    },
    {
      "cell_type": "code",
      "source": [
        "\n",
        "my_list2 = ['Python', 'Java', 'C#']\n",
        "my_list2.remove('Java') #移除指定元素\n",
        "print(my_list2)\n",
        "del my_list2[-1] #刪除指定位置的元素\n",
        "print(my_list2)\n",
        "my_list2.clear() #清除全部\n",
        "print(my_list2)"
      ],
      "metadata": {
        "colab": {
          "base_uri": "https://localhost:8080/"
        },
        "id": "TIfNbS1bP034",
        "outputId": "cdfe93a5-8849-4573-ecf8-d049427e978d"
      },
      "execution_count": 14,
      "outputs": [
        {
          "output_type": "stream",
          "name": "stdout",
          "text": [
            "['Python', 'C#']\n",
            "['Python']\n",
            "[]\n"
          ]
        }
      ]
    },
    {
      "cell_type": "code",
      "source": [
        "a=[1,2]\n",
        "print(a*6) #重複6次"
      ],
      "metadata": {
        "colab": {
          "base_uri": "https://localhost:8080/"
        },
        "id": "T1qa33YkQF0K",
        "outputId": "97fbaeab-3b8e-428c-d4be-05864893fe87"
      },
      "execution_count": 15,
      "outputs": [
        {
          "output_type": "stream",
          "name": "stdout",
          "text": [
            "[1, 2, 1, 2, 1, 2, 1, 2, 1, 2, 1, 2]\n"
          ]
        }
      ]
    },
    {
      "cell_type": "markdown",
      "source": [
        "list取值"
      ],
      "metadata": {
        "id": "3bUt-RB8QL_o"
      }
    },
    {
      "cell_type": "code",
      "source": [
        "a=[0,1,2,3,4,5,6,7,8]\n",
        "b=a[0:3] #範圍取值，0,1,2不包含3\n",
        "print(b)\n",
        "c=a[0:8:2] #間隔2取值\n",
        "print(c)\n",
        "d = a[0: ]\n",
        "print(d)\n",
        "e = a[ :9]\n",
        "print(e)\n",
        "f = a[:] #取全部值\n",
        "print(f)"
      ],
      "metadata": {
        "colab": {
          "base_uri": "https://localhost:8080/"
        },
        "id": "FYSrB6cGQNsi",
        "outputId": "db88bbc1-e4db-4441-dc70-cb75bc2efb1f"
      },
      "execution_count": 18,
      "outputs": [
        {
          "output_type": "stream",
          "name": "stdout",
          "text": [
            "[0, 1, 2]\n",
            "[0, 2, 4, 6]\n",
            "[0, 1, 2, 3, 4, 5, 6, 7, 8]\n",
            "[0, 1, 2, 3, 4, 5, 6, 7, 8]\n",
            "[0, 1, 2, 3, 4, 5, 6, 7, 8]\n"
          ]
        }
      ]
    },
    {
      "cell_type": "code",
      "source": [
        "a=[1,2,3,4,5,6,7,8,9]\n",
        "del a[6:9] #刪除某範圍值, 6, 9\n",
        "print(a)\n",
        "print(min(a)) #最小值\n",
        "print(max(a)) #最大值\n",
        "print(a.index(1)) #找出1所在的第一個索引值\n",
        "b=[1,0,1,1,1,1]\n",
        "print(b.count(1)) #1出現的次數\n",
        "a.reverse() #串列反轉\n",
        "print(a)\n",
        "a.sort() #串列由小到大排序,a的值會被改變\n",
        "print(a)"
      ],
      "metadata": {
        "colab": {
          "base_uri": "https://localhost:8080/"
        },
        "id": "JVrQGRl1RHXH",
        "outputId": "60019d3d-d09d-466c-88e9-21ff297e8b70"
      },
      "execution_count": 24,
      "outputs": [
        {
          "output_type": "stream",
          "name": "stdout",
          "text": [
            "[1, 2, 3, 4, 5, 6]\n",
            "1\n",
            "6\n",
            "0\n",
            "5\n",
            "[6, 5, 4, 3, 2, 1]\n",
            "[1, 2, 3, 4, 5, 6]\n"
          ]
        }
      ]
    },
    {
      "cell_type": "code",
      "source": [
        "expenses = [1024, 140, 240, 360, 2048]\n",
        "s=sorted(expenses) #expenses的值不會變\n",
        "print(s, expenses)"
      ],
      "metadata": {
        "colab": {
          "base_uri": "https://localhost:8080/"
        },
        "id": "t2VIsIBoRbsD",
        "outputId": "78d2de7d-4392-4901-d854-02dad373832d"
      },
      "execution_count": 22,
      "outputs": [
        {
          "output_type": "stream",
          "name": "stdout",
          "text": [
            "[140, 240, 360, 1024, 2048] [1024, 140, 240, 360, 2048]\n"
          ]
        }
      ]
    }
  ]
}