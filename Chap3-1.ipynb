{
  "nbformat": 4,
  "nbformat_minor": 0,
  "metadata": {
    "colab": {
      "name": "Untitled1.ipynb",
      "provenance": [],
      "authorship_tag": "ABX9TyNva2r4i81SEeD/5EcGauYz",
      "include_colab_link": true
    },
    "kernelspec": {
      "name": "python3",
      "display_name": "Python 3"
    },
    "language_info": {
      "name": "python"
    }
  },
  "cells": [
    {
      "cell_type": "markdown",
      "metadata": {
        "id": "view-in-github",
        "colab_type": "text"
      },
      "source": [
        "<a href=\"https://colab.research.google.com/github/jerry110375/019/blob/main/Chap3-1.ipynb\" target=\"_parent\"><img src=\"https://colab.research.google.com/assets/colab-badge.svg\" alt=\"Open In Colab\"/></a>"
      ]
    },
    {
      "cell_type": "markdown",
      "source": [
        "Tuple (元組)\n",
        "tuple(元組)可視為不可改變的串列，tuple跟list很像，但是我們不能新增、刪除或更新tuple的元素。tuple的好處有：\n",
        "\n",
        "1.佔用較少空間\n",
        "2.可當作dictionary(字典)的鍵值\n",
        "3.可當作函式引數"
      ],
      "metadata": {
        "id": "fImS899XH31s"
      }
    },
    {
      "cell_type": "code",
      "execution_count": 9,
      "metadata": {
        "colab": {
          "base_uri": "https://localhost:8080/"
        },
        "id": "2zUJoif9HMC9",
        "outputId": "bf8ad645-8c34-4548-b05a-fd58becb2199"
      },
      "outputs": [
        {
          "output_type": "stream",
          "name": "stdout",
          "text": [
            "('Python', 'Java', 'Sql')\n",
            "('C++', 'c#', 'ios')\n",
            "C++\n"
          ]
        }
      ],
      "source": [
        "a_tuple=('Python', 'Java', 'Sql')\n",
        "print(a_tuple)\n",
        "b_list=['C++', 'c#', 'ios']\n",
        "b_tuple=tuple(b_list)\n",
        "print(b_tuple)\n",
        "print(b_tuple[0])"
      ]
    },
    {
      "cell_type": "markdown",
      "source": [
        "字典(dictionary - dict)為帶有鍵值(key)的串列(list)"
      ],
      "metadata": {
        "id": "kH2hrButLDAV"
      }
    },
    {
      "cell_type": "code",
      "source": [
        "languages = {}\n",
        "languages = {'name':'Python', 'version':'6.4'} #索引值(鍵值)可以自訂\n",
        "print(languages['name'])\n",
        "print(languages['version'])\n",
        "a={0:'Python', 1:'Java', 2:'Sql'}\n",
        "print(a[0])\n",
        "print(a[1])\n",
        "print(a[2])\n",
        "print(languages)\n",
        "print(languages.keys())\n",
        "print(languages.values())\n",
        "print(languages.items())\n",
        "print('name' in languages)"
      ],
      "metadata": {
        "colab": {
          "base_uri": "https://localhost:8080/"
        },
        "id": "BHBzNIa9JdA_",
        "outputId": "8b3019bc-a3cb-4316-9cb4-70eba232d3bd"
      },
      "execution_count": 8,
      "outputs": [
        {
          "output_type": "stream",
          "name": "stdout",
          "text": [
            "Python\n",
            "6.4\n",
            "Python\n",
            "Java\n",
            "Sql\n",
            "{'name': 'Python', 'version': '6.4'}\n",
            "dict_keys(['name', 'version'])\n",
            "dict_values(['Python', '6.4'])\n",
            "dict_items([('name', 'Python'), ('version', '6.4')])\n",
            "True\n"
          ]
        }
      ]
    }
  ]
}